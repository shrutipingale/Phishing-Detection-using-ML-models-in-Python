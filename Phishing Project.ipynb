{
 "cells": [
  {
   "cell_type": "code",
   "execution_count": 79,
   "id": "a7f0b584",
   "metadata": {},
   "outputs": [],
   "source": [
    "import re\n",
    "import numpy as np\n",
    "import pandas as pd\n",
    "import seaborn as sns\n",
    "import matplotlib.pyplot as plt\n",
    "from colorama import Fore\n",
    "from urllib.parse import urlparse\n",
    "from sklearn.model_selection import train_test_split\n",
    "from sklearn.metrics import confusion_matrix, classification_report, accuracy_score\n",
    "from sklearn.tree import DecisionTreeClassifier\n",
    "from sklearn.ensemble import RandomForestClassifier\n",
    "from sklearn.neighbors import KNeighborsClassifier\n",
    "from sklearn.linear_model import LogisticRegression\n",
    "from sklearn.neural_network import MLPClassifier\n",
    "from tld import get_tld, is_tld"
   ]
  },
  {
   "cell_type": "code",
   "execution_count": 80,
   "id": "4abc6711",
   "metadata": {},
   "outputs": [],
   "source": [
    "# Reading data"
   ]
  },
  {
   "cell_type": "code",
   "execution_count": 81,
   "id": "4220744d",
   "metadata": {},
   "outputs": [
    {
     "data": {
      "text/html": [
       "<div>\n",
       "<style scoped>\n",
       "    .dataframe tbody tr th:only-of-type {\n",
       "        vertical-align: middle;\n",
       "    }\n",
       "\n",
       "    .dataframe tbody tr th {\n",
       "        vertical-align: top;\n",
       "    }\n",
       "\n",
       "    .dataframe thead th {\n",
       "        text-align: right;\n",
       "    }\n",
       "</style>\n",
       "<table border=\"1\" class=\"dataframe\">\n",
       "  <thead>\n",
       "    <tr style=\"text-align: right;\">\n",
       "      <th></th>\n",
       "      <th>Serial no.</th>\n",
       "      <th>URL</th>\n",
       "      <th>Label</th>\n",
       "    </tr>\n",
       "  </thead>\n",
       "  <tbody>\n",
       "    <tr>\n",
       "      <th>0</th>\n",
       "      <td>1</td>\n",
       "      <td>homepages.primex.co.uk/~lesleyah/gbstern.htm</td>\n",
       "      <td>0</td>\n",
       "    </tr>\n",
       "    <tr>\n",
       "      <th>1</th>\n",
       "      <td>2</td>\n",
       "      <td>http://attonlinemanagementpage.weebly.com/</td>\n",
       "      <td>1</td>\n",
       "    </tr>\n",
       "    <tr>\n",
       "      <th>2</th>\n",
       "      <td>3</td>\n",
       "      <td>http://uyipertx.tk/53l0ck0p/view/login.php?cmd...</td>\n",
       "      <td>1</td>\n",
       "    </tr>\n",
       "    <tr>\n",
       "      <th>3</th>\n",
       "      <td>4</td>\n",
       "      <td>https://amaznon.co.jp.rfiwen.cn/</td>\n",
       "      <td>1</td>\n",
       "    </tr>\n",
       "    <tr>\n",
       "      <th>4</th>\n",
       "      <td>5</td>\n",
       "      <td>https://cv89429.tmweb.ru/CA.1v3/PARTICULIERS/</td>\n",
       "      <td>1</td>\n",
       "    </tr>\n",
       "  </tbody>\n",
       "</table>\n",
       "</div>"
      ],
      "text/plain": [
       "   Serial no.                                                URL  Label\n",
       "0           1       homepages.primex.co.uk/~lesleyah/gbstern.htm      0\n",
       "1           2         http://attonlinemanagementpage.weebly.com/      1\n",
       "2           3  http://uyipertx.tk/53l0ck0p/view/login.php?cmd...      1\n",
       "3           4                   https://amaznon.co.jp.rfiwen.cn/      1\n",
       "4           5      https://cv89429.tmweb.ru/CA.1v3/PARTICULIERS/      1"
      ]
     },
     "execution_count": 81,
     "metadata": {},
     "output_type": "execute_result"
    }
   ],
   "source": [
    "data = pd.read_csv('data1.csv')\n",
    "data.head()"
   ]
  },
  {
   "cell_type": "code",
   "execution_count": 82,
   "id": "d8222e31",
   "metadata": {},
   "outputs": [
    {
     "name": "stdout",
     "output_type": "stream",
     "text": [
      "<class 'pandas.core.frame.DataFrame'>\n",
      "RangeIndex: 93752 entries, 0 to 93751\n",
      "Data columns (total 3 columns):\n",
      " #   Column      Non-Null Count  Dtype \n",
      "---  ------      --------------  ----- \n",
      " 0   Serial no.  93752 non-null  int64 \n",
      " 1   URL         93752 non-null  object\n",
      " 2   Label       93752 non-null  int64 \n",
      "dtypes: int64(2), object(1)\n",
      "memory usage: 2.1+ MB\n"
     ]
    }
   ],
   "source": [
    "data.info()"
   ]
  },
  {
   "cell_type": "code",
   "execution_count": 83,
   "id": "2b5b3917",
   "metadata": {},
   "outputs": [],
   "source": [
    "# Checking for null values"
   ]
  },
  {
   "cell_type": "code",
   "execution_count": 84,
   "id": "cb54aee0",
   "metadata": {},
   "outputs": [
    {
     "data": {
      "text/plain": [
       "Serial no.    0\n",
       "URL           0\n",
       "Label         0\n",
       "dtype: int64"
      ]
     },
     "execution_count": 84,
     "metadata": {},
     "output_type": "execute_result"
    }
   ],
   "source": [
    "data.isnull().sum()"
   ]
  },
  {
   "cell_type": "code",
   "execution_count": 85,
   "id": "7367e7f8",
   "metadata": {},
   "outputs": [],
   "source": [
    "# Count Different Labels "
   ]
  },
  {
   "cell_type": "code",
   "execution_count": 86,
   "id": "e27e9fc1",
   "metadata": {},
   "outputs": [
    {
     "data": {
      "text/plain": [
       "0    54864\n",
       "1    38888\n",
       "Name: Label, dtype: int64"
      ]
     },
     "execution_count": 86,
     "metadata": {},
     "output_type": "execute_result"
    }
   ],
   "source": [
    "count = data.Label.value_counts()\n",
    "count"
   ]
  },
  {
   "cell_type": "code",
   "execution_count": 87,
   "id": "078758bf",
   "metadata": {},
   "outputs": [
    {
     "data": {
      "image/png": "[encoded data removed]",
      "text/plain": [
       "<Figure size 432x288 with 1 Axes>"
      ]
     },
     "metadata": {
      "needs_background": "light"
     },
     "output_type": "display_data"
    }
   ],
   "source": [
    "sns.barplot(x=count.index, y=count)\n",
    "plt.xlabel('Label')\n",
    "plt.ylabel('Count');"
   ]
  },
  {
   "cell_type": "code",
   "execution_count": 88,
   "id": "3e8eb188",
   "metadata": {},
   "outputs": [],
   "source": [
    "# Remove www. in url"
   ]
  },
  {
   "cell_type": "code",
   "execution_count": 89,
   "id": "2f38d943",
   "metadata": {},
   "outputs": [
    {
     "data": {
      "text/html": [
       "<div>\n",
       "<style scoped>\n",
       "    .dataframe tbody tr th:only-of-type {\n",
       "        vertical-align: middle;\n",
       "    }\n",
       "\n",
       "    .dataframe tbody tr th {\n",
       "        vertical-align: top;\n",
       "    }\n",
       "\n",
       "    .dataframe thead th {\n",
       "        text-align: right;\n",
       "    }\n",
       "</style>\n",
       "<table border=\"1\" class=\"dataframe\">\n",
       "  <thead>\n",
       "    <tr style=\"text-align: right;\">\n",
       "      <th></th>\n",
       "      <th>Serial no.</th>\n",
       "      <th>URL</th>\n",
       "      <th>Label</th>\n",
       "    </tr>\n",
       "  </thead>\n",
       "  <tbody>\n",
       "    <tr>\n",
       "      <th>0</th>\n",
       "      <td>1</td>\n",
       "      <td>homepages.primex.co.uk/~lesleyah/gbstern.htm</td>\n",
       "      <td>0</td>\n",
       "    </tr>\n",
       "    <tr>\n",
       "      <th>1</th>\n",
       "      <td>2</td>\n",
       "      <td>http://attonlinemanagementpage.weebly.com/</td>\n",
       "      <td>1</td>\n",
       "    </tr>\n",
       "    <tr>\n",
       "      <th>2</th>\n",
       "      <td>3</td>\n",
       "      <td>http://uyipertx.tk/53l0ck0p/view/login.php?cmd...</td>\n",
       "      <td>1</td>\n",
       "    </tr>\n",
       "    <tr>\n",
       "      <th>3</th>\n",
       "      <td>4</td>\n",
       "      <td>https://amaznon.co.jp.rfiwen.cn/</td>\n",
       "      <td>1</td>\n",
       "    </tr>\n",
       "    <tr>\n",
       "      <th>4</th>\n",
       "      <td>5</td>\n",
       "      <td>https://cv89429.tmweb.ru/CA.1v3/PARTICULIERS/</td>\n",
       "      <td>1</td>\n",
       "    </tr>\n",
       "    <tr>\n",
       "      <th>...</th>\n",
       "      <td>...</td>\n",
       "      <td>...</td>\n",
       "      <td>...</td>\n",
       "    </tr>\n",
       "    <tr>\n",
       "      <th>93747</th>\n",
       "      <td>93748</td>\n",
       "      <td>https://ing-girokonto.sudanltd.com/ing/d6988c9...</td>\n",
       "      <td>1</td>\n",
       "    </tr>\n",
       "    <tr>\n",
       "      <th>93748</th>\n",
       "      <td>93749</td>\n",
       "      <td>current-movie-reviews.com/34094/previews/2011/...</td>\n",
       "      <td>0</td>\n",
       "    </tr>\n",
       "    <tr>\n",
       "      <th>93749</th>\n",
       "      <td>93750</td>\n",
       "      <td>http://torcache.net/torrent/913EF0F8FBC9D864A6...</td>\n",
       "      <td>0</td>\n",
       "    </tr>\n",
       "    <tr>\n",
       "      <th>93750</th>\n",
       "      <td>93751</td>\n",
       "      <td>http://hhathomeassistance.com/survey/updates</td>\n",
       "      <td>1</td>\n",
       "    </tr>\n",
       "    <tr>\n",
       "      <th>93751</th>\n",
       "      <td>93752</td>\n",
       "      <td>http://7.69.99.25.100.23.krakentxy.com/</td>\n",
       "      <td>1</td>\n",
       "    </tr>\n",
       "  </tbody>\n",
       "</table>\n",
       "<p>93752 rows × 3 columns</p>\n",
       "</div>"
      ],
      "text/plain": [
       "       Serial no.                                                URL  Label\n",
       "0               1       homepages.primex.co.uk/~lesleyah/gbstern.htm      0\n",
       "1               2         http://attonlinemanagementpage.weebly.com/      1\n",
       "2               3  http://uyipertx.tk/53l0ck0p/view/login.php?cmd...      1\n",
       "3               4                   https://amaznon.co.jp.rfiwen.cn/      1\n",
       "4               5      https://cv89429.tmweb.ru/CA.1v3/PARTICULIERS/      1\n",
       "...           ...                                                ...    ...\n",
       "93747       93748  https://ing-girokonto.sudanltd.com/ing/d6988c9...      1\n",
       "93748       93749  current-movie-reviews.com/34094/previews/2011/...      0\n",
       "93749       93750  http://torcache.net/torrent/913EF0F8FBC9D864A6...      0\n",
       "93750       93751       http://hhathomeassistance.com/survey/updates      1\n",
       "93751       93752            http://7.69.99.25.100.23.krakentxy.com/      1\n",
       "\n",
       "[93752 rows x 3 columns]"
      ]
     },
     "execution_count": 89,
     "metadata": {},
     "output_type": "execute_result"
    }
   ],
   "source": [
    "data['URL'] = data['URL'].replace('www.', '', regex=True)\n",
    "data"
   ]
  },
  {
   "cell_type": "code",
   "execution_count": 90,
   "id": "3d773341",
   "metadata": {},
   "outputs": [
    {
     "data": {
      "text/html": [
       "<div>\n",
       "<style scoped>\n",
       "    .dataframe tbody tr th:only-of-type {\n",
       "        vertical-align: middle;\n",
       "    }\n",
       "\n",
       "    .dataframe tbody tr th {\n",
       "        vertical-align: top;\n",
       "    }\n",
       "\n",
       "    .dataframe thead th {\n",
       "        text-align: right;\n",
       "    }\n",
       "</style>\n",
       "<table border=\"1\" class=\"dataframe\">\n",
       "  <thead>\n",
       "    <tr style=\"text-align: right;\">\n",
       "      <th></th>\n",
       "      <th>Serial no.</th>\n",
       "      <th>URL</th>\n",
       "      <th>Label</th>\n",
       "    </tr>\n",
       "  </thead>\n",
       "  <tbody>\n",
       "    <tr>\n",
       "      <th>0</th>\n",
       "      <td>1</td>\n",
       "      <td>homepages.primex.co.uk/~lesleyah/gbstern.htm</td>\n",
       "      <td>0</td>\n",
       "    </tr>\n",
       "    <tr>\n",
       "      <th>1</th>\n",
       "      <td>2</td>\n",
       "      <td>http://attonlinemanagementpage.weebly.com/</td>\n",
       "      <td>1</td>\n",
       "    </tr>\n",
       "    <tr>\n",
       "      <th>2</th>\n",
       "      <td>3</td>\n",
       "      <td>http://uyipertx.tk/53l0ck0p/view/login.php?cmd...</td>\n",
       "      <td>1</td>\n",
       "    </tr>\n",
       "    <tr>\n",
       "      <th>3</th>\n",
       "      <td>4</td>\n",
       "      <td>https://amaznon.co.jp.rfiwen.cn/</td>\n",
       "      <td>1</td>\n",
       "    </tr>\n",
       "    <tr>\n",
       "      <th>4</th>\n",
       "      <td>5</td>\n",
       "      <td>https://cv89429.tmweb.ru/CA.1v3/PARTICULIERS/</td>\n",
       "      <td>1</td>\n",
       "    </tr>\n",
       "  </tbody>\n",
       "</table>\n",
       "</div>"
      ],
      "text/plain": [
       "   Serial no.                                                URL  Label\n",
       "0           1       homepages.primex.co.uk/~lesleyah/gbstern.htm      0\n",
       "1           2         http://attonlinemanagementpage.weebly.com/      1\n",
       "2           3  http://uyipertx.tk/53l0ck0p/view/login.php?cmd...      1\n",
       "3           4                   https://amaznon.co.jp.rfiwen.cn/      1\n",
       "4           5      https://cv89429.tmweb.ru/CA.1v3/PARTICULIERS/      1"
      ]
     },
     "execution_count": 90,
     "metadata": {},
     "output_type": "execute_result"
    }
   ],
   "source": [
    "data.head()"
   ]
  },
  {
   "cell_type": "code",
   "execution_count": null,
   "id": "0f1052c6",
   "metadata": {},
   "outputs": [],
   "source": [
    "# Categorizing the URLs as Trusted or Phished"
   ]
  },
  {
   "cell_type": "code",
   "execution_count": 91,
   "id": "fa8e4b35",
   "metadata": {},
   "outputs": [],
   "source": [
    "rem = {\"Category\": {0: \"Trusted\", 1: \"Phishing\"}}\n",
    "data['Category'] = data['Label']\n",
    "data = data.replace(rem)"
   ]
  },
  {
   "cell_type": "code",
   "execution_count": 92,
   "id": "1e2fc7e4",
   "metadata": {},
   "outputs": [],
   "source": [
    "# counting the length of the URL"
   ]
  },
  {
   "cell_type": "code",
   "execution_count": 93,
   "id": "7df641b2",
   "metadata": {},
   "outputs": [],
   "source": [
    "data['url_len'] = data['URL'].apply(lambda x: len(str(x)))"
   ]
  },
  {
   "cell_type": "code",
   "execution_count": 94,
   "id": "ff4be87b",
   "metadata": {},
   "outputs": [],
   "source": [
    "# getting the domain from the URL"
   ]
  },
  {
   "cell_type": "code",
   "execution_count": 95,
   "id": "44935377",
   "metadata": {},
   "outputs": [],
   "source": [
    "def process_tld(url):\n",
    "    try:\n",
    "        res = get_tld(url, as_object = True, fail_silently=False,fix_protocol=True)\n",
    "        pri_domain= res.parsed_url.netloc\n",
    "    except :\n",
    "        pri_domain= None\n",
    "    return pri_domain"
   ]
  },
  {
   "cell_type": "code",
   "execution_count": 96,
   "id": "a2dd6bb7",
   "metadata": {},
   "outputs": [],
   "source": [
    "data['domain'] = data['URL'].apply(lambda i: process_tld(i))"
   ]
  },
  {
   "cell_type": "code",
   "execution_count": 97,
   "id": "45cba0f9",
   "metadata": {},
   "outputs": [
    {
     "data": {
      "text/html": [
       "<div>\n",
       "<style scoped>\n",
       "    .dataframe tbody tr th:only-of-type {\n",
       "        vertical-align: middle;\n",
       "    }\n",
       "\n",
       "    .dataframe tbody tr th {\n",
       "        vertical-align: top;\n",
       "    }\n",
       "\n",
       "    .dataframe thead th {\n",
       "        text-align: right;\n",
       "    }\n",
       "</style>\n",
       "<table border=\"1\" class=\"dataframe\">\n",
       "  <thead>\n",
       "    <tr style=\"text-align: right;\">\n",
       "      <th></th>\n",
       "      <th>Serial no.</th>\n",
       "      <th>URL</th>\n",
       "      <th>Label</th>\n",
       "      <th>Category</th>\n",
       "      <th>url_len</th>\n",
       "      <th>domain</th>\n",
       "    </tr>\n",
       "  </thead>\n",
       "  <tbody>\n",
       "    <tr>\n",
       "      <th>0</th>\n",
       "      <td>1</td>\n",
       "      <td>homepages.primex.co.uk/~lesleyah/gbstern.htm</td>\n",
       "      <td>0</td>\n",
       "      <td>Trusted</td>\n",
       "      <td>44</td>\n",
       "      <td>homepages.primex.co.uk</td>\n",
       "    </tr>\n",
       "    <tr>\n",
       "      <th>1</th>\n",
       "      <td>2</td>\n",
       "      <td>http://attonlinemanagementpage.weebly.com/</td>\n",
       "      <td>1</td>\n",
       "      <td>Phishing</td>\n",
       "      <td>42</td>\n",
       "      <td>attonlinemanagementpage.weebly.com</td>\n",
       "    </tr>\n",
       "    <tr>\n",
       "      <th>2</th>\n",
       "      <td>3</td>\n",
       "      <td>http://uyipertx.tk/53l0ck0p/view/login.php?cmd...</td>\n",
       "      <td>1</td>\n",
       "      <td>Phishing</td>\n",
       "      <td>200</td>\n",
       "      <td>uyipertx.tk</td>\n",
       "    </tr>\n",
       "    <tr>\n",
       "      <th>3</th>\n",
       "      <td>4</td>\n",
       "      <td>https://amaznon.co.jp.rfiwen.cn/</td>\n",
       "      <td>1</td>\n",
       "      <td>Phishing</td>\n",
       "      <td>32</td>\n",
       "      <td>amaznon.co.jp.rfiwen.cn</td>\n",
       "    </tr>\n",
       "    <tr>\n",
       "      <th>4</th>\n",
       "      <td>5</td>\n",
       "      <td>https://cv89429.tmweb.ru/CA.1v3/PARTICULIERS/</td>\n",
       "      <td>1</td>\n",
       "      <td>Phishing</td>\n",
       "      <td>45</td>\n",
       "      <td>cv89429.tmweb.ru</td>\n",
       "    </tr>\n",
       "  </tbody>\n",
       "</table>\n",
       "</div>"
      ],
      "text/plain": [
       "   Serial no.                                                URL  Label  \\\n",
       "0           1       homepages.primex.co.uk/~lesleyah/gbstern.htm      0   \n",
       "1           2         http://attonlinemanagementpage.weebly.com/      1   \n",
       "2           3  http://uyipertx.tk/53l0ck0p/view/login.php?cmd...      1   \n",
       "3           4                   https://amaznon.co.jp.rfiwen.cn/      1   \n",
       "4           5      https://cv89429.tmweb.ru/CA.1v3/PARTICULIERS/      1   \n",
       "\n",
       "   Category  url_len                              domain  \n",
       "0   Trusted       44              homepages.primex.co.uk  \n",
       "1  Phishing       42  attonlinemanagementpage.weebly.com  \n",
       "2  Phishing      200                         uyipertx.tk  \n",
       "3  Phishing       32             amaznon.co.jp.rfiwen.cn  \n",
       "4  Phishing       45                    cv89429.tmweb.ru  "
      ]
     },
     "execution_count": 97,
     "metadata": {},
     "output_type": "execute_result"
    }
   ],
   "source": [
    "data.head()"
   ]
  },
  {
   "cell_type": "code",
   "execution_count": 98,
   "id": "3ea03244",
   "metadata": {},
   "outputs": [],
   "source": [
    "#  Independent variables (extracting the features)"
   ]
  },
  {
   "cell_type": "code",
   "execution_count": 99,
   "id": "24899983",
   "metadata": {},
   "outputs": [],
   "source": [
    "feature = ['@','?','-','=','.','#','%','+','$','!','*',',','//','.com','.org','.ru','.in']\n",
    "for a in feature:\n",
    "    data[a] = data['URL'].apply(lambda i: i.count(a))"
   ]
  },
  {
   "cell_type": "code",
   "execution_count": 100,
   "id": "9fb559bc",
   "metadata": {},
   "outputs": [
    {
     "data": {
      "text/html": [
       "<div>\n",
       "<style scoped>\n",
       "    .dataframe tbody tr th:only-of-type {\n",
       "        vertical-align: middle;\n",
       "    }\n",
       "\n",
       "    .dataframe tbody tr th {\n",
       "        vertical-align: top;\n",
       "    }\n",
       "\n",
       "    .dataframe thead th {\n",
       "        text-align: right;\n",
       "    }\n",
       "</style>\n",
       "<table border=\"1\" class=\"dataframe\">\n",
       "  <thead>\n",
       "    <tr style=\"text-align: right;\">\n",
       "      <th></th>\n",
       "      <th>Serial no.</th>\n",
       "      <th>URL</th>\n",
       "      <th>Label</th>\n",
       "      <th>Category</th>\n",
       "      <th>url_len</th>\n",
       "      <th>domain</th>\n",
       "      <th>@</th>\n",
       "      <th>?</th>\n",
       "      <th>-</th>\n",
       "      <th>=</th>\n",
       "      <th>...</th>\n",
       "      <th>+</th>\n",
       "      <th>$</th>\n",
       "      <th>!</th>\n",
       "      <th>*</th>\n",
       "      <th>,</th>\n",
       "      <th>//</th>\n",
       "      <th>.com</th>\n",
       "      <th>.org</th>\n",
       "      <th>.ru</th>\n",
       "      <th>.in</th>\n",
       "    </tr>\n",
       "  </thead>\n",
       "  <tbody>\n",
       "    <tr>\n",
       "      <th>0</th>\n",
       "      <td>1</td>\n",
       "      <td>homepages.primex.co.uk/~lesleyah/gbstern.htm</td>\n",
       "      <td>0</td>\n",
       "      <td>Trusted</td>\n",
       "      <td>44</td>\n",
       "      <td>homepages.primex.co.uk</td>\n",
       "      <td>0</td>\n",
       "      <td>0</td>\n",
       "      <td>0</td>\n",
       "      <td>0</td>\n",
       "      <td>...</td>\n",
       "      <td>0</td>\n",
       "      <td>0</td>\n",
       "      <td>0</td>\n",
       "      <td>0</td>\n",
       "      <td>0</td>\n",
       "      <td>0</td>\n",
       "      <td>0</td>\n",
       "      <td>0</td>\n",
       "      <td>0</td>\n",
       "      <td>0</td>\n",
       "    </tr>\n",
       "    <tr>\n",
       "      <th>1</th>\n",
       "      <td>2</td>\n",
       "      <td>http://attonlinemanagementpage.weebly.com/</td>\n",
       "      <td>1</td>\n",
       "      <td>Phishing</td>\n",
       "      <td>42</td>\n",
       "      <td>attonlinemanagementpage.weebly.com</td>\n",
       "      <td>0</td>\n",
       "      <td>0</td>\n",
       "      <td>0</td>\n",
       "      <td>0</td>\n",
       "      <td>...</td>\n",
       "      <td>0</td>\n",
       "      <td>0</td>\n",
       "      <td>0</td>\n",
       "      <td>0</td>\n",
       "      <td>0</td>\n",
       "      <td>1</td>\n",
       "      <td>1</td>\n",
       "      <td>0</td>\n",
       "      <td>0</td>\n",
       "      <td>0</td>\n",
       "    </tr>\n",
       "    <tr>\n",
       "      <th>2</th>\n",
       "      <td>3</td>\n",
       "      <td>http://uyipertx.tk/53l0ck0p/view/login.php?cmd...</td>\n",
       "      <td>1</td>\n",
       "      <td>Phishing</td>\n",
       "      <td>200</td>\n",
       "      <td>uyipertx.tk</td>\n",
       "      <td>0</td>\n",
       "      <td>1</td>\n",
       "      <td>0</td>\n",
       "      <td>3</td>\n",
       "      <td>...</td>\n",
       "      <td>0</td>\n",
       "      <td>0</td>\n",
       "      <td>0</td>\n",
       "      <td>0</td>\n",
       "      <td>0</td>\n",
       "      <td>1</td>\n",
       "      <td>0</td>\n",
       "      <td>0</td>\n",
       "      <td>0</td>\n",
       "      <td>0</td>\n",
       "    </tr>\n",
       "    <tr>\n",
       "      <th>3</th>\n",
       "      <td>4</td>\n",
       "      <td>https://amaznon.co.jp.rfiwen.cn/</td>\n",
       "      <td>1</td>\n",
       "      <td>Phishing</td>\n",
       "      <td>32</td>\n",
       "      <td>amaznon.co.jp.rfiwen.cn</td>\n",
       "      <td>0</td>\n",
       "      <td>0</td>\n",
       "      <td>0</td>\n",
       "      <td>0</td>\n",
       "      <td>...</td>\n",
       "      <td>0</td>\n",
       "      <td>0</td>\n",
       "      <td>0</td>\n",
       "      <td>0</td>\n",
       "      <td>0</td>\n",
       "      <td>1</td>\n",
       "      <td>0</td>\n",
       "      <td>0</td>\n",
       "      <td>0</td>\n",
       "      <td>0</td>\n",
       "    </tr>\n",
       "    <tr>\n",
       "      <th>4</th>\n",
       "      <td>5</td>\n",
       "      <td>https://cv89429.tmweb.ru/CA.1v3/PARTICULIERS/</td>\n",
       "      <td>1</td>\n",
       "      <td>Phishing</td>\n",
       "      <td>45</td>\n",
       "      <td>cv89429.tmweb.ru</td>\n",
       "      <td>0</td>\n",
       "      <td>0</td>\n",
       "      <td>0</td>\n",
       "      <td>0</td>\n",
       "      <td>...</td>\n",
       "      <td>0</td>\n",
       "      <td>0</td>\n",
       "      <td>0</td>\n",
       "      <td>0</td>\n",
       "      <td>0</td>\n",
       "      <td>1</td>\n",
       "      <td>0</td>\n",
       "      <td>0</td>\n",
       "      <td>1</td>\n",
       "      <td>0</td>\n",
       "    </tr>\n",
       "  </tbody>\n",
       "</table>\n",
       "<p>5 rows × 23 columns</p>\n",
       "</div>"
      ],
      "text/plain": [
       "   Serial no.                                                URL  Label  \\\n",
       "0           1       homepages.primex.co.uk/~lesleyah/gbstern.htm      0   \n",
       "1           2         http://attonlinemanagementpage.weebly.com/      1   \n",
       "2           3  http://uyipertx.tk/53l0ck0p/view/login.php?cmd...      1   \n",
       "3           4                   https://amaznon.co.jp.rfiwen.cn/      1   \n",
       "4           5      https://cv89429.tmweb.ru/CA.1v3/PARTICULIERS/      1   \n",
       "\n",
       "   Category  url_len                              domain  @  ?  -  =  ...  +  \\\n",
       "0   Trusted       44              homepages.primex.co.uk  0  0  0  0  ...  0   \n",
       "1  Phishing       42  attonlinemanagementpage.weebly.com  0  0  0  0  ...  0   \n",
       "2  Phishing      200                         uyipertx.tk  0  1  0  3  ...  0   \n",
       "3  Phishing       32             amaznon.co.jp.rfiwen.cn  0  0  0  0  ...  0   \n",
       "4  Phishing       45                    cv89429.tmweb.ru  0  0  0  0  ...  0   \n",
       "\n",
       "   $  !  *  ,  //  .com  .org  .ru  .in  \n",
       "0  0  0  0  0   0     0     0    0    0  \n",
       "1  0  0  0  0   1     1     0    0    0  \n",
       "2  0  0  0  0   1     0     0    0    0  \n",
       "3  0  0  0  0   1     0     0    0    0  \n",
       "4  0  0  0  0   1     0     0    1    0  \n",
       "\n",
       "[5 rows x 23 columns]"
      ]
     },
     "execution_count": 100,
     "metadata": {},
     "output_type": "execute_result"
    }
   ],
   "source": [
    "data.head()"
   ]
  },
  {
   "cell_type": "code",
   "execution_count": 101,
   "id": "5ba6a257",
   "metadata": {},
   "outputs": [],
   "source": [
    "# Creating a csv file with the output"
   ]
  },
  {
   "cell_type": "code",
   "execution_count": 102,
   "id": "3971b3df",
   "metadata": {},
   "outputs": [],
   "source": [
    "data.to_csv('Result.csv')"
   ]
  },
  {
   "cell_type": "code",
   "execution_count": null,
   "id": "543b2695",
   "metadata": {},
   "outputs": [],
   "source": [
    "# Differentiating normal and abnormal URLs"
   ]
  },
  {
   "cell_type": "code",
   "execution_count": 103,
   "id": "772d0a3f",
   "metadata": {},
   "outputs": [],
   "source": [
    "def abnormal_url(url):\n",
    "    hostname = urlparse(url).hostname\n",
    "    hostname = str(hostname)\n",
    "    match = re.search(hostname, url)\n",
    "    if match:\n",
    "        # print match.group()\n",
    "        return 1\n",
    "    else:\n",
    "        # print 'No matching pattern found'\n",
    "        return 0"
   ]
  },
  {
   "cell_type": "code",
   "execution_count": 104,
   "id": "8c641750",
   "metadata": {},
   "outputs": [],
   "source": [
    "data['abnormal_url'] = data['URL'].apply(lambda i: abnormal_url(i))"
   ]
  },
  {
   "cell_type": "code",
   "execution_count": 105,
   "id": "e0ecbcd1",
   "metadata": {},
   "outputs": [
    {
     "data": {
      "image/png": "[encoded data removed]",
      "text/plain": [
       "<Figure size 432x288 with 1 Axes>"
      ]
     },
     "metadata": {
      "needs_background": "light"
     },
     "output_type": "display_data"
    }
   ],
   "source": [
    "sns.countplot(x='abnormal_url', data=data);"
   ]
  },
  {
   "cell_type": "code",
   "execution_count": null,
   "id": "0274b735",
   "metadata": {},
   "outputs": [],
   "source": [
    "# Differentiating secure and unsecure https"
   ]
  },
  {
   "cell_type": "code",
   "execution_count": 106,
   "id": "060c78cc",
   "metadata": {},
   "outputs": [],
   "source": [
    "def httpSecure(url):\n",
    "    htp = urlparse(url).scheme\n",
    "    match = str(htp)\n",
    "    if match=='https':\n",
    "        # print match.group()\n",
    "        return 1  #secure\n",
    "    else:\n",
    "        # print 'No matching pattern found'\n",
    "        return 0  #unsecure"
   ]
  },
  {
   "cell_type": "code",
   "execution_count": 107,
   "id": "852f6407",
   "metadata": {},
   "outputs": [],
   "source": [
    "data['https'] = data['URL'].apply(lambda i: httpSecure(i))"
   ]
  },
  {
   "cell_type": "code",
   "execution_count": 108,
   "id": "5351f9a6",
   "metadata": {},
   "outputs": [
    {
     "data": {
      "image/png": "[encoded data removed]",
      "text/plain": [
       "<Figure size 432x288 with 1 Axes>"
      ]
     },
     "metadata": {
      "needs_background": "light"
     },
     "output_type": "display_data"
    }
   ],
   "source": [
    "sns.countplot(x='https', data=data);"
   ]
  },
  {
   "cell_type": "code",
   "execution_count": 109,
   "id": "9c3bac35",
   "metadata": {},
   "outputs": [
    {
     "data": {
      "text/html": [
       "<div>\n",
       "<style scoped>\n",
       "    .dataframe tbody tr th:only-of-type {\n",
       "        vertical-align: middle;\n",
       "    }\n",
       "\n",
       "    .dataframe tbody tr th {\n",
       "        vertical-align: top;\n",
       "    }\n",
       "\n",
       "    .dataframe thead th {\n",
       "        text-align: right;\n",
       "    }\n",
       "</style>\n",
       "<table border=\"1\" class=\"dataframe\">\n",
       "  <thead>\n",
       "    <tr style=\"text-align: right;\">\n",
       "      <th></th>\n",
       "      <th>Serial no.</th>\n",
       "      <th>URL</th>\n",
       "      <th>Label</th>\n",
       "      <th>Category</th>\n",
       "      <th>url_len</th>\n",
       "      <th>domain</th>\n",
       "      <th>@</th>\n",
       "      <th>?</th>\n",
       "      <th>-</th>\n",
       "      <th>=</th>\n",
       "      <th>...</th>\n",
       "      <th>!</th>\n",
       "      <th>*</th>\n",
       "      <th>,</th>\n",
       "      <th>//</th>\n",
       "      <th>.com</th>\n",
       "      <th>.org</th>\n",
       "      <th>.ru</th>\n",
       "      <th>.in</th>\n",
       "      <th>abnormal_url</th>\n",
       "      <th>https</th>\n",
       "    </tr>\n",
       "  </thead>\n",
       "  <tbody>\n",
       "    <tr>\n",
       "      <th>0</th>\n",
       "      <td>1</td>\n",
       "      <td>homepages.primex.co.uk/~lesleyah/gbstern.htm</td>\n",
       "      <td>0</td>\n",
       "      <td>Trusted</td>\n",
       "      <td>44</td>\n",
       "      <td>homepages.primex.co.uk</td>\n",
       "      <td>0</td>\n",
       "      <td>0</td>\n",
       "      <td>0</td>\n",
       "      <td>0</td>\n",
       "      <td>...</td>\n",
       "      <td>0</td>\n",
       "      <td>0</td>\n",
       "      <td>0</td>\n",
       "      <td>0</td>\n",
       "      <td>0</td>\n",
       "      <td>0</td>\n",
       "      <td>0</td>\n",
       "      <td>0</td>\n",
       "      <td>0</td>\n",
       "      <td>0</td>\n",
       "    </tr>\n",
       "    <tr>\n",
       "      <th>1</th>\n",
       "      <td>2</td>\n",
       "      <td>http://attonlinemanagementpage.weebly.com/</td>\n",
       "      <td>1</td>\n",
       "      <td>Phishing</td>\n",
       "      <td>42</td>\n",
       "      <td>attonlinemanagementpage.weebly.com</td>\n",
       "      <td>0</td>\n",
       "      <td>0</td>\n",
       "      <td>0</td>\n",
       "      <td>0</td>\n",
       "      <td>...</td>\n",
       "      <td>0</td>\n",
       "      <td>0</td>\n",
       "      <td>0</td>\n",
       "      <td>1</td>\n",
       "      <td>1</td>\n",
       "      <td>0</td>\n",
       "      <td>0</td>\n",
       "      <td>0</td>\n",
       "      <td>1</td>\n",
       "      <td>0</td>\n",
       "    </tr>\n",
       "    <tr>\n",
       "      <th>2</th>\n",
       "      <td>3</td>\n",
       "      <td>http://uyipertx.tk/53l0ck0p/view/login.php?cmd...</td>\n",
       "      <td>1</td>\n",
       "      <td>Phishing</td>\n",
       "      <td>200</td>\n",
       "      <td>uyipertx.tk</td>\n",
       "      <td>0</td>\n",
       "      <td>1</td>\n",
       "      <td>0</td>\n",
       "      <td>3</td>\n",
       "      <td>...</td>\n",
       "      <td>0</td>\n",
       "      <td>0</td>\n",
       "      <td>0</td>\n",
       "      <td>1</td>\n",
       "      <td>0</td>\n",
       "      <td>0</td>\n",
       "      <td>0</td>\n",
       "      <td>0</td>\n",
       "      <td>1</td>\n",
       "      <td>0</td>\n",
       "    </tr>\n",
       "    <tr>\n",
       "      <th>3</th>\n",
       "      <td>4</td>\n",
       "      <td>https://amaznon.co.jp.rfiwen.cn/</td>\n",
       "      <td>1</td>\n",
       "      <td>Phishing</td>\n",
       "      <td>32</td>\n",
       "      <td>amaznon.co.jp.rfiwen.cn</td>\n",
       "      <td>0</td>\n",
       "      <td>0</td>\n",
       "      <td>0</td>\n",
       "      <td>0</td>\n",
       "      <td>...</td>\n",
       "      <td>0</td>\n",
       "      <td>0</td>\n",
       "      <td>0</td>\n",
       "      <td>1</td>\n",
       "      <td>0</td>\n",
       "      <td>0</td>\n",
       "      <td>0</td>\n",
       "      <td>0</td>\n",
       "      <td>1</td>\n",
       "      <td>1</td>\n",
       "    </tr>\n",
       "    <tr>\n",
       "      <th>4</th>\n",
       "      <td>5</td>\n",
       "      <td>https://cv89429.tmweb.ru/CA.1v3/PARTICULIERS/</td>\n",
       "      <td>1</td>\n",
       "      <td>Phishing</td>\n",
       "      <td>45</td>\n",
       "      <td>cv89429.tmweb.ru</td>\n",
       "      <td>0</td>\n",
       "      <td>0</td>\n",
       "      <td>0</td>\n",
       "      <td>0</td>\n",
       "      <td>...</td>\n",
       "      <td>0</td>\n",
       "      <td>0</td>\n",
       "      <td>0</td>\n",
       "      <td>1</td>\n",
       "      <td>0</td>\n",
       "      <td>0</td>\n",
       "      <td>1</td>\n",
       "      <td>0</td>\n",
       "      <td>1</td>\n",
       "      <td>1</td>\n",
       "    </tr>\n",
       "  </tbody>\n",
       "</table>\n",
       "<p>5 rows × 25 columns</p>\n",
       "</div>"
      ],
      "text/plain": [
       "   Serial no.                                                URL  Label  \\\n",
       "0           1       homepages.primex.co.uk/~lesleyah/gbstern.htm      0   \n",
       "1           2         http://attonlinemanagementpage.weebly.com/      1   \n",
       "2           3  http://uyipertx.tk/53l0ck0p/view/login.php?cmd...      1   \n",
       "3           4                   https://amaznon.co.jp.rfiwen.cn/      1   \n",
       "4           5      https://cv89429.tmweb.ru/CA.1v3/PARTICULIERS/      1   \n",
       "\n",
       "   Category  url_len                              domain  @  ?  -  =  ...  !  \\\n",
       "0   Trusted       44              homepages.primex.co.uk  0  0  0  0  ...  0   \n",
       "1  Phishing       42  attonlinemanagementpage.weebly.com  0  0  0  0  ...  0   \n",
       "2  Phishing      200                         uyipertx.tk  0  1  0  3  ...  0   \n",
       "3  Phishing       32             amaznon.co.jp.rfiwen.cn  0  0  0  0  ...  0   \n",
       "4  Phishing       45                    cv89429.tmweb.ru  0  0  0  0  ...  0   \n",
       "\n",
       "   *  ,  //  .com  .org  .ru  .in  abnormal_url  https  \n",
       "0  0  0   0     0     0    0    0             0      0  \n",
       "1  0  0   1     1     0    0    0             1      0  \n",
       "2  0  0   1     0     0    0    0             1      0  \n",
       "3  0  0   1     0     0    0    0             1      1  \n",
       "4  0  0   1     0     0    1    0             1      1  \n",
       "\n",
       "[5 rows x 25 columns]"
      ]
     },
     "execution_count": 109,
     "metadata": {},
     "output_type": "execute_result"
    }
   ],
   "source": [
    "data.head()"
   ]
  },
  {
   "cell_type": "code",
   "execution_count": null,
   "id": "ea3f49ba",
   "metadata": {},
   "outputs": [],
   "source": [
    "# training the ML models"
   ]
  },
  {
   "cell_type": "code",
   "execution_count": 110,
   "id": "de9aa6d5",
   "metadata": {},
   "outputs": [],
   "source": [
    "X = data.drop(['URL','Label','Category','domain'],axis=1)\n",
    "y = data['Category']"
   ]
  },
  {
   "cell_type": "code",
   "execution_count": 111,
   "id": "45fd506f",
   "metadata": {},
   "outputs": [],
   "source": [
    "X_train, X_test, y_train, y_test = train_test_split(X, y, test_size=0.5, random_state=42)"
   ]
  },
  {
   "cell_type": "code",
   "execution_count": 112,
   "id": "8f5fbcfe",
   "metadata": {},
   "outputs": [],
   "source": [
    "from sklearn.metrics import plot_confusion_matrix\n",
    "from sklearn.metrics import plot_roc_curve"
   ]
  },
  {
   "cell_type": "code",
   "execution_count": null,
   "id": "25656bb5",
   "metadata": {},
   "outputs": [],
   "source": [
    "# all are supervisied ML models"
   ]
  },
  {
   "cell_type": "code",
   "execution_count": 113,
   "id": "25185898",
   "metadata": {},
   "outputs": [
    {
     "name": "stdout",
     "output_type": "stream",
     "text": [
      "Model =>\u001b[07m <class 'sklearn.tree._classes.DecisionTreeClassifier'> \u001b[0m\n",
      "Test Accuracy :\u001b[32m \u001b[01m 93.61% \u001b[30m \u001b[0m\n",
      "\u001b[31m###################- End -###################\u001b[0m\n",
      "Model =>\u001b[07m <class 'sklearn.ensemble._forest.RandomForestClassifier'> \u001b[0m\n",
      "Test Accuracy :\u001b[32m \u001b[01m 94.85% \u001b[30m \u001b[0m\n",
      "\u001b[31m###################- End -###################\u001b[0m\n",
      "Model =>\u001b[07m <class 'sklearn.neighbors._classification.KNeighborsClassifier'> \u001b[0m\n",
      "Test Accuracy :\u001b[32m \u001b[01m 59.38% \u001b[30m \u001b[0m\n",
      "\u001b[31m###################- End -###################\u001b[0m\n",
      "Model =>\u001b[07m <class 'sklearn.linear_model._logistic.LogisticRegression'> \u001b[0m\n",
      "Test Accuracy :\u001b[32m \u001b[01m 90.28% \u001b[30m \u001b[0m\n",
      "\u001b[31m###################- End -###################\u001b[0m\n",
      "Model =>\u001b[07m <class 'sklearn.neural_network._multilayer_perceptron.MLPClassifier'> \u001b[0m\n",
      "Test Accuracy :\u001b[32m \u001b[01m 86.51% \u001b[30m \u001b[0m\n",
      "\u001b[31m###################- End -###################\u001b[0m\n"
     ]
    }
   ],
   "source": [
    "models = [DecisionTreeClassifier,RandomForestClassifier,KNeighborsClassifier,LogisticRegression,MLPClassifier]\n",
    "accuracy_test=[]\n",
    "for m in models:\n",
    "    print('Model =>\\033[07m {} \\033[0m'.format(m))\n",
    "    model_ = m()\n",
    "    model_.fit(X_train, y_train)\n",
    "    pred = model_.predict(X_test)\n",
    "    acc = accuracy_score(pred, y_test)\n",
    "    accuracy_test.append(acc)\n",
    "    print('Test Accuracy :\\033[32m \\033[01m {:.2f}% \\033[30m \\033[0m'.format(acc*100))\n",
    "    plt.show()\n",
    "    print('\\033[31m###################- End -###################\\033[0m')"
   ]
  },
  {
   "cell_type": "code",
   "execution_count": 114,
   "id": "73744c1b",
   "metadata": {},
   "outputs": [],
   "source": [
    "output = pd.DataFrame({\"Model\":['Decision Tree Classifier','Random Forest Classifier','KNeighbors Classifier','Logistic Regression','MLPClassifier'],\n",
    "                      \"Accuracy\":accuracy_test})"
   ]
  },
  {
   "cell_type": "code",
   "execution_count": 115,
   "id": "b0646486",
   "metadata": {},
   "outputs": [
    {
     "data": {
      "text/html": [
       "<div>\n",
       "<style scoped>\n",
       "    .dataframe tbody tr th:only-of-type {\n",
       "        vertical-align: middle;\n",
       "    }\n",
       "\n",
       "    .dataframe tbody tr th {\n",
       "        vertical-align: top;\n",
       "    }\n",
       "\n",
       "    .dataframe thead th {\n",
       "        text-align: right;\n",
       "    }\n",
       "</style>\n",
       "<table border=\"1\" class=\"dataframe\">\n",
       "  <thead>\n",
       "    <tr style=\"text-align: right;\">\n",
       "      <th></th>\n",
       "      <th>Model</th>\n",
       "      <th>Accuracy</th>\n",
       "    </tr>\n",
       "  </thead>\n",
       "  <tbody>\n",
       "    <tr>\n",
       "      <th>0</th>\n",
       "      <td>Decision Tree Classifier</td>\n",
       "      <td>0.936065</td>\n",
       "    </tr>\n",
       "    <tr>\n",
       "      <th>1</th>\n",
       "      <td>Random Forest Classifier</td>\n",
       "      <td>0.948481</td>\n",
       "    </tr>\n",
       "    <tr>\n",
       "      <th>2</th>\n",
       "      <td>KNeighbors Classifier</td>\n",
       "      <td>0.593779</td>\n",
       "    </tr>\n",
       "    <tr>\n",
       "      <th>3</th>\n",
       "      <td>Logistic Regression</td>\n",
       "      <td>0.902786</td>\n",
       "    </tr>\n",
       "    <tr>\n",
       "      <th>4</th>\n",
       "      <td>MLPClassifier</td>\n",
       "      <td>0.865091</td>\n",
       "    </tr>\n",
       "  </tbody>\n",
       "</table>\n",
       "</div>"
      ],
      "text/plain": [
       "                      Model  Accuracy\n",
       "0  Decision Tree Classifier  0.936065\n",
       "1  Random Forest Classifier  0.948481\n",
       "2     KNeighbors Classifier  0.593779\n",
       "3       Logistic Regression  0.902786\n",
       "4             MLPClassifier  0.865091"
      ]
     },
     "execution_count": 115,
     "metadata": {},
     "output_type": "execute_result"
    }
   ],
   "source": [
    "output"
   ]
  },
  {
   "cell_type": "code",
   "execution_count": 116,
   "id": "2f2d9a6e",
   "metadata": {},
   "outputs": [
    {
     "data": {
      "text/plain": [
       "Model       Random Forest Classifier\n",
       "Accuracy                    0.948481\n",
       "Name: 1, dtype: object"
      ]
     },
     "execution_count": 116,
     "metadata": {},
     "output_type": "execute_result"
    }
   ],
   "source": [
    "best_accuracy = output.loc[output['Accuracy'].idxmax()]\n",
    "best_accuracy"
   ]
  },
  {
   "cell_type": "code",
   "execution_count": 117,
   "id": "f18cd37b",
   "metadata": {},
   "outputs": [
    {
     "data": {
      "image/png": "[encoded data removed]",
      "text/plain": [
       "<Figure size 720x360 with 1 Axes>"
      ]
     },
     "metadata": {
      "needs_background": "light"
     },
     "output_type": "display_data"
    }
   ],
   "source": [
    "plt.figure(figsize=(10, 5))\n",
    "plots = sns.barplot(x='Model', y='Accuracy', data=output)\n",
    "for bar in plots.patches:\n",
    "    plots.annotate(format(bar.get_height(), '.2f'),\n",
    "                   (bar.get_x() + bar.get_width() / 2,\n",
    "                    bar.get_height()), ha='center', va='center',\n",
    "                   size=15, xytext=(0, 8),\n",
    "                   textcoords='offset points')\n",
    "\n",
    "plt.xlabel(\"Models\", size=14)\n",
    "plt.xticks(rotation=20);\n",
    "plt.ylabel(\"Accuracy\", size=14)\n",
    "plt.show()"
   ]
  }
 ],
 "metadata": {
  "kernelspec": {
   "display_name": "Python 3 (ipykernel)",
   "language": "python",
   "name": "python3"
  },
  "language_info": {
   "codemirror_mode": {
    "name": "ipython",
    "version": 3
   },
   "file_extension": ".py",
   "mimetype": "text/x-python",
   "name": "python",
   "nbconvert_exporter": "python",
   "pygments_lexer": "ipython3",
   "version": "3.9.7"
  }
 },
 "nbformat": 4,
 "nbformat_minor": 5
}
